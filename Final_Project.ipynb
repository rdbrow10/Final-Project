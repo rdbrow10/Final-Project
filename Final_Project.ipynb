{
  "nbformat": 4,
  "nbformat_minor": 0,
  "metadata": {
    "colab": {
      "provenance": [],
      "authorship_tag": "ABX9TyOTUWkqFlkR1IPFwvDOJ05L",
      "include_colab_link": true
    },
    "kernelspec": {
      "name": "python3",
      "display_name": "Python 3"
    },
    "language_info": {
      "name": "python"
    }
  },
  "cells": [
    {
      "cell_type": "markdown",
      "metadata": {
        "id": "view-in-github",
        "colab_type": "text"
      },
      "source": [
        "<a href=\"https://colab.research.google.com/github/rdbrow10/Final-Project/blob/main/Final_Project.ipynb\" target=\"_parent\"><img src=\"https://colab.research.google.com/assets/colab-badge.svg\" alt=\"Open In Colab\"/></a>"
      ]
    },
    {
      "cell_type": "markdown",
      "source": [
        "# Final Project - Covid-19 Prediction Trials"
      ],
      "metadata": {
        "id": "gv9jdc4wcTu5"
      }
    },
    {
      "cell_type": "markdown",
      "source": [
        "**By: Ryan Brown**"
      ],
      "metadata": {
        "id": "g6cWfMTf2Kno"
      }
    },
    {
      "cell_type": "markdown",
      "source": [
        "***Warning! The values calculated are the total recorded cases and covid-related fatalities. It was my intention to do it by day but I used a data set that tracks the total recorded in the US.***"
      ],
      "metadata": {
        "id": "WjtH0Lez2OR6"
      }
    },
    {
      "cell_type": "markdown",
      "source": [
        "## Introduction"
      ],
      "metadata": {
        "id": "GhVhIr5AfqrR"
      }
    },
    {
      "cell_type": "markdown",
      "source": [
        "### My Project"
      ],
      "metadata": {
        "id": "8gNRgXQIvb5H"
      }
    },
    {
      "cell_type": "markdown",
      "source": [
        "I will be taking a look at the number of covid cases and fatalities in the US at the start of the covid pandemic. Reviewing the amount of cases on and after January 21, 2020. I am doing this because covid entered the US around January 21, 2020 and began to spread. Also, reviewing the number of fatalities on and after March 2, 2020. Since, fatalitlies can occur weeks and months after the first day of infection. I wanted a larger pool of data. I will then predict the number of cases and fatalities 10 days after the last day I am reviewing for each category. Initially, I was going to take a look at predicting the number of cases and fatalities in the upcoming days, but I wanted to do a trial where I can compare the predictions made to the reported number of cases and fatalities on those specific days. "
      ],
      "metadata": {
        "id": "XxgweHFYfuAf"
      }
    },
    {
      "cell_type": "markdown",
      "source": [
        "### My Prediction"
      ],
      "metadata": {
        "id": "9SDrYxXMvgid"
      }
    },
    {
      "cell_type": "markdown",
      "source": [
        "When trying to predict the number of covid cases and covid-related deaths, it can be difficult to predict these numbers soley due to external factors that cannot be precisely valued. Thus, I believe that these predictions will be undervalued as many people during the first few months of covid didn't think they would get it and/or didn't think it was that bad. "
      ],
      "metadata": {
        "id": "HHVkq_U4vyt0"
      }
    },
    {
      "cell_type": "code",
      "source": [
        "import pandas as pd\n",
        "import numpy as np\n",
        "import math\n",
        "import matplotlib.pyplot as plt\n",
        "from sklearn.metrics import r2_score\n",
        "from sklearn.metrics import mean_squared_error\n",
        "from sklearn.model_selection import KFold\n",
        "from sklearn.linear_model import LinearRegression\n",
        "from sklearn.svm import SVR\n",
        "from sklearn.neural_network import MLPRegressor\n",
        "from sklearn.model_selection import train_test_split"
      ],
      "metadata": {
        "id": "_rgLpQVDcUN7"
      },
      "execution_count": 3,
      "outputs": []
    },
    {
      "cell_type": "markdown",
      "source": [
        "## Covid Cases in the US"
      ],
      "metadata": {
        "id": "eQeVIH1jfjfE"
      }
    },
    {
      "cell_type": "code",
      "source": [
        "path='https://raw.githubusercontent.com/rdbrow10/Final-Project/main/Cases.csv'\n",
        "ds = pd.read_csv(path, index_col=0)\n",
        "ds.head(95)"
      ],
      "metadata": {
        "colab": {
          "base_uri": "https://localhost:8080/",
          "height": 455
        },
        "id": "0yTU9VZncyQP",
        "outputId": "87d8efb4-cd9d-429f-b864-735a85636bfc"
      },
      "execution_count": 4,
      "outputs": [
        {
          "output_type": "execute_result",
          "data": {
            "text/plain": [
              "            Day_Number   Cases   Day_Trial  Day_Number_Trial  \\\n",
              "Date                                                           \n",
              "2020-01-21           1       1  2020-02-05              16.0   \n",
              "2020-01-22           2       1  2020-02-16              27.0   \n",
              "2020-01-23           3       1  2020-02-22              33.0   \n",
              "2020-01-24           4       2  2020-02-27              38.0   \n",
              "2020-01-25           5       2  2020-03-03              43.0   \n",
              "...                ...     ...         ...               ...   \n",
              "2020-04-21          91  695873         NaN               NaN   \n",
              "2020-04-22          92  722598         NaN               NaN   \n",
              "2020-04-23          93  750284         NaN               NaN   \n",
              "2020-04-24          94  762609         NaN               NaN   \n",
              "2020-04-25          95  788233         NaN               NaN   \n",
              "\n",
              "            Number_of_Patients_Trial  \n",
              "Date                                  \n",
              "2020-01-21                      11.0  \n",
              "2020-01-22                      13.0  \n",
              "2020-01-23                      15.0  \n",
              "2020-01-24                      58.0  \n",
              "2020-01-25                     118.0  \n",
              "...                              ...  \n",
              "2020-04-21                       NaN  \n",
              "2020-04-22                       NaN  \n",
              "2020-04-23                       NaN  \n",
              "2020-04-24                       NaN  \n",
              "2020-04-25                       NaN  \n",
              "\n",
              "[83 rows x 5 columns]"
            ],
            "text/html": [
              "\n",
              "  <div id=\"df-9ff2bdba-4f0f-498d-8458-1987619c0016\">\n",
              "    <div class=\"colab-df-container\">\n",
              "      <div>\n",
              "<style scoped>\n",
              "    .dataframe tbody tr th:only-of-type {\n",
              "        vertical-align: middle;\n",
              "    }\n",
              "\n",
              "    .dataframe tbody tr th {\n",
              "        vertical-align: top;\n",
              "    }\n",
              "\n",
              "    .dataframe thead th {\n",
              "        text-align: right;\n",
              "    }\n",
              "</style>\n",
              "<table border=\"1\" class=\"dataframe\">\n",
              "  <thead>\n",
              "    <tr style=\"text-align: right;\">\n",
              "      <th></th>\n",
              "      <th>Day_Number</th>\n",
              "      <th>Cases</th>\n",
              "      <th>Day_Trial</th>\n",
              "      <th>Day_Number_Trial</th>\n",
              "      <th>Number_of_Patients_Trial</th>\n",
              "    </tr>\n",
              "    <tr>\n",
              "      <th>Date</th>\n",
              "      <th></th>\n",
              "      <th></th>\n",
              "      <th></th>\n",
              "      <th></th>\n",
              "      <th></th>\n",
              "    </tr>\n",
              "  </thead>\n",
              "  <tbody>\n",
              "    <tr>\n",
              "      <th>2020-01-21</th>\n",
              "      <td>1</td>\n",
              "      <td>1</td>\n",
              "      <td>2020-02-05</td>\n",
              "      <td>16.0</td>\n",
              "      <td>11.0</td>\n",
              "    </tr>\n",
              "    <tr>\n",
              "      <th>2020-01-22</th>\n",
              "      <td>2</td>\n",
              "      <td>1</td>\n",
              "      <td>2020-02-16</td>\n",
              "      <td>27.0</td>\n",
              "      <td>13.0</td>\n",
              "    </tr>\n",
              "    <tr>\n",
              "      <th>2020-01-23</th>\n",
              "      <td>3</td>\n",
              "      <td>1</td>\n",
              "      <td>2020-02-22</td>\n",
              "      <td>33.0</td>\n",
              "      <td>15.0</td>\n",
              "    </tr>\n",
              "    <tr>\n",
              "      <th>2020-01-24</th>\n",
              "      <td>4</td>\n",
              "      <td>2</td>\n",
              "      <td>2020-02-27</td>\n",
              "      <td>38.0</td>\n",
              "      <td>58.0</td>\n",
              "    </tr>\n",
              "    <tr>\n",
              "      <th>2020-01-25</th>\n",
              "      <td>5</td>\n",
              "      <td>2</td>\n",
              "      <td>2020-03-03</td>\n",
              "      <td>43.0</td>\n",
              "      <td>118.0</td>\n",
              "    </tr>\n",
              "    <tr>\n",
              "      <th>...</th>\n",
              "      <td>...</td>\n",
              "      <td>...</td>\n",
              "      <td>...</td>\n",
              "      <td>...</td>\n",
              "      <td>...</td>\n",
              "    </tr>\n",
              "    <tr>\n",
              "      <th>2020-04-21</th>\n",
              "      <td>91</td>\n",
              "      <td>695873</td>\n",
              "      <td>NaN</td>\n",
              "      <td>NaN</td>\n",
              "      <td>NaN</td>\n",
              "    </tr>\n",
              "    <tr>\n",
              "      <th>2020-04-22</th>\n",
              "      <td>92</td>\n",
              "      <td>722598</td>\n",
              "      <td>NaN</td>\n",
              "      <td>NaN</td>\n",
              "      <td>NaN</td>\n",
              "    </tr>\n",
              "    <tr>\n",
              "      <th>2020-04-23</th>\n",
              "      <td>93</td>\n",
              "      <td>750284</td>\n",
              "      <td>NaN</td>\n",
              "      <td>NaN</td>\n",
              "      <td>NaN</td>\n",
              "    </tr>\n",
              "    <tr>\n",
              "      <th>2020-04-24</th>\n",
              "      <td>94</td>\n",
              "      <td>762609</td>\n",
              "      <td>NaN</td>\n",
              "      <td>NaN</td>\n",
              "      <td>NaN</td>\n",
              "    </tr>\n",
              "    <tr>\n",
              "      <th>2020-04-25</th>\n",
              "      <td>95</td>\n",
              "      <td>788233</td>\n",
              "      <td>NaN</td>\n",
              "      <td>NaN</td>\n",
              "      <td>NaN</td>\n",
              "    </tr>\n",
              "  </tbody>\n",
              "</table>\n",
              "<p>83 rows × 5 columns</p>\n",
              "</div>\n",
              "      <button class=\"colab-df-convert\" onclick=\"convertToInteractive('df-9ff2bdba-4f0f-498d-8458-1987619c0016')\"\n",
              "              title=\"Convert this dataframe to an interactive table.\"\n",
              "              style=\"display:none;\">\n",
              "        \n",
              "  <svg xmlns=\"http://www.w3.org/2000/svg\" height=\"24px\"viewBox=\"0 0 24 24\"\n",
              "       width=\"24px\">\n",
              "    <path d=\"M0 0h24v24H0V0z\" fill=\"none\"/>\n",
              "    <path d=\"M18.56 5.44l.94 2.06.94-2.06 2.06-.94-2.06-.94-.94-2.06-.94 2.06-2.06.94zm-11 1L8.5 8.5l.94-2.06 2.06-.94-2.06-.94L8.5 2.5l-.94 2.06-2.06.94zm10 10l.94 2.06.94-2.06 2.06-.94-2.06-.94-.94-2.06-.94 2.06-2.06.94z\"/><path d=\"M17.41 7.96l-1.37-1.37c-.4-.4-.92-.59-1.43-.59-.52 0-1.04.2-1.43.59L10.3 9.45l-7.72 7.72c-.78.78-.78 2.05 0 2.83L4 21.41c.39.39.9.59 1.41.59.51 0 1.02-.2 1.41-.59l7.78-7.78 2.81-2.81c.8-.78.8-2.07 0-2.86zM5.41 20L4 18.59l7.72-7.72 1.47 1.35L5.41 20z\"/>\n",
              "  </svg>\n",
              "      </button>\n",
              "      \n",
              "  <style>\n",
              "    .colab-df-container {\n",
              "      display:flex;\n",
              "      flex-wrap:wrap;\n",
              "      gap: 12px;\n",
              "    }\n",
              "\n",
              "    .colab-df-convert {\n",
              "      background-color: #E8F0FE;\n",
              "      border: none;\n",
              "      border-radius: 50%;\n",
              "      cursor: pointer;\n",
              "      display: none;\n",
              "      fill: #1967D2;\n",
              "      height: 32px;\n",
              "      padding: 0 0 0 0;\n",
              "      width: 32px;\n",
              "    }\n",
              "\n",
              "    .colab-df-convert:hover {\n",
              "      background-color: #E2EBFA;\n",
              "      box-shadow: 0px 1px 2px rgba(60, 64, 67, 0.3), 0px 1px 3px 1px rgba(60, 64, 67, 0.15);\n",
              "      fill: #174EA6;\n",
              "    }\n",
              "\n",
              "    [theme=dark] .colab-df-convert {\n",
              "      background-color: #3B4455;\n",
              "      fill: #D2E3FC;\n",
              "    }\n",
              "\n",
              "    [theme=dark] .colab-df-convert:hover {\n",
              "      background-color: #434B5C;\n",
              "      box-shadow: 0px 1px 3px 1px rgba(0, 0, 0, 0.15);\n",
              "      filter: drop-shadow(0px 1px 2px rgba(0, 0, 0, 0.3));\n",
              "      fill: #FFFFFF;\n",
              "    }\n",
              "  </style>\n",
              "\n",
              "      <script>\n",
              "        const buttonEl =\n",
              "          document.querySelector('#df-9ff2bdba-4f0f-498d-8458-1987619c0016 button.colab-df-convert');\n",
              "        buttonEl.style.display =\n",
              "          google.colab.kernel.accessAllowed ? 'block' : 'none';\n",
              "\n",
              "        async function convertToInteractive(key) {\n",
              "          const element = document.querySelector('#df-9ff2bdba-4f0f-498d-8458-1987619c0016');\n",
              "          const dataTable =\n",
              "            await google.colab.kernel.invokeFunction('convertToInteractive',\n",
              "                                                     [key], {});\n",
              "          if (!dataTable) return;\n",
              "\n",
              "          const docLinkHtml = 'Like what you see? Visit the ' +\n",
              "            '<a target=\"_blank\" href=https://colab.research.google.com/notebooks/data_table.ipynb>data table notebook</a>'\n",
              "            + ' to learn more about interactive tables.';\n",
              "          element.innerHTML = '';\n",
              "          dataTable['output_type'] = 'display_data';\n",
              "          await google.colab.output.renderOutput(dataTable, element);\n",
              "          const docLink = document.createElement('div');\n",
              "          docLink.innerHTML = docLinkHtml;\n",
              "          element.appendChild(docLink);\n",
              "        }\n",
              "      </script>\n",
              "    </div>\n",
              "  </div>\n",
              "  "
            ]
          },
          "metadata": {},
          "execution_count": 4
        }
      ]
    },
    {
      "cell_type": "code",
      "source": [
        "x = ds['Day_Number']\n",
        "y = ds['Cases']\n",
        "x_test_patient = ds['Day_Number_Trial'][:12]\n",
        "y_test_patient = ds['Number_of_Patients_Trial'][:12]\n",
        "x_prediction =[[96],[97],[98],[99],[100],[101],[102],[103],[104],[105],[106]]"
      ],
      "metadata": {
        "id": "h7aYmzvveaa1"
      },
      "execution_count": 25,
      "outputs": []
    },
    {
      "cell_type": "markdown",
      "source": [
        "### Using a Linear Regression Model: Covid Cases"
      ],
      "metadata": {
        "id": "qefAWunZldDY"
      }
    },
    {
      "cell_type": "markdown",
      "source": [
        "We can use a linear regression model to see the total recorded cases as they increase along a straight line if there are no external factors (traveling, safety, temperatures, or etc.) This will be represented as a straight line to see the average infection increase per day. "
      ],
      "metadata": {
        "id": "SOjxK9Wflm-5"
      }
    },
    {
      "cell_type": "code",
      "source": [
        "linear_regression=LinearRegression()\n",
        "\n",
        "yy=np.log10(y)\n",
        "\n",
        "scores = []\n",
        "\n",
        "Linear_Regression = LinearRegression()\n",
        "\n",
        "cv = KFold(n_splits=10, random_state=1, shuffle=True)\n",
        "for train_index, test_index in cv.split(x):\n",
        "    X_train, X_test, y_train, y_test , yy_train, yy_test= x[train_index], x[test_index], y[train_index], y[test_index], yy[train_index], yy[test_index]\n",
        "    Linear_Regression.fit(X_train.values.reshape(-1,1), yy_train)\n",
        "    scores.append(Linear_Regression.score(X_test.values.reshape(-1,1), yy_test))\n",
        "    \n",
        "print(\"Average Linear Regression:\",sum(scores)/len(scores))  "
      ],
      "metadata": {
        "colab": {
          "base_uri": "https://localhost:8080/"
        },
        "id": "15-gfRCnieP1",
        "outputId": "5d7df9e2-c4b6-4238-e559-bffc59088097"
      },
      "execution_count": 26,
      "outputs": [
        {
          "output_type": "stream",
          "name": "stdout",
          "text": [
            "Average Linear Regression: 0.947731350509466\n"
          ]
        }
      ]
    },
    {
      "cell_type": "markdown",
      "source": [
        "Above we get the average linear regression value. "
      ],
      "metadata": {
        "id": "voh8IWgTm8Za"
      }
    },
    {
      "cell_type": "code",
      "source": [
        "Linear_Regression.fit(x.values.reshape(-1,1), yy)\n",
        "y_test_patient_log=np.log10(y_test_patient)\n",
        "evaluation_1 =Linear_Regression.predict(x_test_patient.values.reshape(-1,1))\n",
        "score=Linear_Regression.score(x_test_patient.values.reshape(-1,1), y_test_patient_log)   \n",
        "print(\"Final Linear Regression:\",score)"
      ],
      "metadata": {
        "colab": {
          "base_uri": "https://localhost:8080/"
        },
        "id": "u1fljvk3mvaX",
        "outputId": "a2ac8311-00aa-4b10-e635-0c3fd59e5391"
      },
      "execution_count": 27,
      "outputs": [
        {
          "output_type": "stream",
          "name": "stdout",
          "text": [
            "Final Linear Regression: 0.9303292029481323\n"
          ]
        }
      ]
    },
    {
      "cell_type": "markdown",
      "source": [
        "Above we find that the final linear regression value is 0.9344"
      ],
      "metadata": {
        "id": "s-E0RtQqnJAb"
      }
    },
    {
      "cell_type": "markdown",
      "source": [
        "### 11 Day Prediction: Covid Cases"
      ],
      "metadata": {
        "id": "ICLQbPs3nfAN"
      }
    },
    {
      "cell_type": "code",
      "source": [
        "print('Predictions for the Next 11 Days:')\n",
        "for predict in x_prediction:\n",
        "  print('day',predict,'=',int(5.3**Linear_Regression.predict([predict])))"
      ],
      "metadata": {
        "colab": {
          "base_uri": "https://localhost:8080/"
        },
        "id": "OTN4vYdcipz3",
        "outputId": "8068a358-8bb0-48c8-bfb7-c3a4a66949da"
      },
      "execution_count": 45,
      "outputs": [
        {
          "output_type": "stream",
          "name": "stdout",
          "text": [
            "Predictions for the Next 11 Days:\n",
            "day [96] = 781141\n",
            "day [97] = 883783\n",
            "day [98] = 999912\n",
            "day [99] = 1131300\n",
            "day [100] = 1279953\n",
            "day [101] = 1448140\n",
            "day [102] = 1638425\n",
            "day [103] = 1853715\n",
            "day [104] = 2097293\n",
            "day [105] = 2372878\n",
            "day [106] = 2684674\n"
          ]
        }
      ]
    },
    {
      "cell_type": "markdown",
      "source": [
        "Here we have predicted the total recorded cases in the next 11 days after April 25, 2020. We used the linear regression model to predict these values as it tells us the constant increase in covid cases over the ~3 month data set."
      ],
      "metadata": {
        "id": "iqNFi-2Yxl8s"
      }
    },
    {
      "cell_type": "code",
      "source": [
        "predicted1 = Linear_Regression.predict(x.values.reshape(-1,1))\n",
        "predicted11 = 10**Linear_Regression.predict(x.values.reshape(-1,1))\n",
        "plt.plot(x, yy, 'o-',label='Total Recorded Cases')\n",
        "plt.plot(x, predicted1,c='#ff0000',label='Linear Regression')\n",
        "plt.legend()\n",
        "plt.xlabel('Day Number')\n",
        "plt.ylabel('Cases')\n",
        "plt.show()"
      ],
      "metadata": {
        "colab": {
          "base_uri": "https://localhost:8080/",
          "height": 279
        },
        "id": "0t38u6G3i7kB",
        "outputId": "7f8dd6bc-67be-4873-c9e8-d44348ef6c90"
      },
      "execution_count": 29,
      "outputs": [
        {
          "output_type": "display_data",
          "data": {
            "text/plain": [
              "<Figure size 432x288 with 1 Axes>"
            ],
            "image/png": "[encoded data removed]"
          },
          "metadata": {
            "needs_background": "light"
          }
        }
      ]
    },
    {
      "cell_type": "markdown",
      "source": [
        "Here we have a graph displaying the total recorded cases (blue dotted line) and the linear regression (red dotted line). Again the linear regression line represensts the total recorded cases during a given set of days. I converted this to a logarithmic graph to avoid having high number values, so it is easier to follow. "
      ],
      "metadata": {
        "id": "dMmI2nodpzNL"
      }
    },
    {
      "cell_type": "markdown",
      "source": [
        "## Covid-Related Fatalities in the US"
      ],
      "metadata": {
        "id": "Yzh61VyTy3AC"
      }
    },
    {
      "cell_type": "code",
      "source": [
        "path2='https://raw.githubusercontent.com/rdbrow10/Final-Project/main/Fatalities.csv'\n",
        "ds_fatalities = pd.read_csv(path2, index_col=0)\n",
        "ds_fatalities.head(60)"
      ],
      "metadata": {
        "colab": {
          "base_uri": "https://localhost:8080/",
          "height": 1000
        },
        "id": "9JSwTWVIzROn",
        "outputId": "94b0844d-6f0a-4916-c7bb-df3147516e88"
      },
      "execution_count": 30,
      "outputs": [
        {
          "output_type": "execute_result",
          "data": {
            "text/plain": [
              "            Day_Number  Fatalities   Day_Trial  Day_Number_Trial  \\\n",
              "Date                                                               \n",
              "2020-03-02           1           6  2020-03-18              17.0   \n",
              "2020-03-03           2           9  2020-03-24              23.0   \n",
              "2020-03-04           3          11  2020-03-28              27.0   \n",
              "2020-03-05           4          12  2020-04-01              31.0   \n",
              "2020-03-06           5          14  2020-04-05              35.0   \n",
              "2020-03-07           6          17  2020-04-11              41.0   \n",
              "2020-03-08           7          21  2020-04-16              46.0   \n",
              "2020-03-09           8          22  2020-04-22              52.0   \n",
              "2020-03-10           9          30  2020-04-28              58.0   \n",
              "2020-03-11          10          36         NaN               NaN   \n",
              "2020-03-12          11          40         NaN               NaN   \n",
              "2020-03-13          12          47         NaN               NaN   \n",
              "2020-03-14          13          54         NaN               NaN   \n",
              "2020-03-15          14          73         NaN               NaN   \n",
              "2020-03-16          15          95         NaN               NaN   \n",
              "2020-03-17          16         121         NaN               NaN   \n",
              "2020-03-19          18         239         NaN               NaN   \n",
              "2020-03-20          19         309         NaN               NaN   \n",
              "2020-03-21          20         374         NaN               NaN   \n",
              "2020-03-22          21         509         NaN               NaN   \n",
              "2020-03-23          22         689         NaN               NaN   \n",
              "2020-03-25          24        1260         NaN               NaN   \n",
              "2020-03-26          25        1614         NaN               NaN   \n",
              "2020-03-27          26        2110         NaN               NaN   \n",
              "2020-03-29          28        3251         NaN               NaN   \n",
              "2020-03-30          29        3948         NaN               NaN   \n",
              "2020-03-31          30        5027         NaN               NaN   \n",
              "2020-04-02          32        7438         NaN               NaN   \n",
              "2020-04-03          33        8694         NaN               NaN   \n",
              "2020-04-04          34       10231         NaN               NaN   \n",
              "2020-04-05          35       11793         NaN               NaN   \n",
              "2020-04-06          36       13128         NaN               NaN   \n",
              "2020-04-07          37       15347         NaN               NaN   \n",
              "2020-04-08          38       17503         NaN               NaN   \n",
              "2020-04-09          39       19604         NaN               NaN   \n",
              "2020-04-10          40       21830         NaN               NaN   \n",
              "2020-04-11          41       23843         NaN               NaN   \n",
              "2020-04-12          42       25558         NaN               NaN   \n",
              "2020-04-13          43       27272         NaN               NaN   \n",
              "2020-04-14          44       29825         NaN               NaN   \n",
              "2020-04-15          45       32443         NaN               NaN   \n",
              "2020-04-16          46       34619         NaN               NaN   \n",
              "2020-04-17          47       37147         NaN               NaN   \n",
              "2020-04-18          48       39014         NaN               NaN   \n",
              "2020-04-19          49       40575         NaN               NaN   \n",
              "2020-04-20          50       42853         NaN               NaN   \n",
              "2020-04-21          51       45536         NaN               NaN   \n",
              "2020-04-22          52       47894         NaN               NaN   \n",
              "2020-04-23          53       50236         NaN               NaN   \n",
              "2020-04-24          54       52191         NaN               NaN   \n",
              "2020-04-25          55       54256         NaN               NaN   \n",
              "2020-04-26          56       55412         NaN               NaN   \n",
              "2020-04-27          57       56796         NaN               NaN   \n",
              "2020-04-28          58       59266         NaN               NaN   \n",
              "2020-04-29          59       61655         NaN               NaN   \n",
              "2020-04-30          60       63856         NaN               NaN   \n",
              "\n",
              "            Fatalities_Trial  \n",
              "Date                          \n",
              "2020-03-02             171.0  \n",
              "2020-03-03             957.0  \n",
              "2020-03-04            2754.0  \n",
              "2020-03-05            6394.0  \n",
              "2020-03-06           11793.0  \n",
              "2020-03-07           23843.0  \n",
              "2020-03-08           34619.0  \n",
              "2020-03-09           47894.0  \n",
              "2020-03-10           59266.0  \n",
              "2020-03-11               NaN  \n",
              "2020-03-12               NaN  \n",
              "2020-03-13               NaN  \n",
              "2020-03-14               NaN  \n",
              "2020-03-15               NaN  \n",
              "2020-03-16               NaN  \n",
              "2020-03-17               NaN  \n",
              "2020-03-19               NaN  \n",
              "2020-03-20               NaN  \n",
              "2020-03-21               NaN  \n",
              "2020-03-22               NaN  \n",
              "2020-03-23               NaN  \n",
              "2020-03-25               NaN  \n",
              "2020-03-26               NaN  \n",
              "2020-03-27               NaN  \n",
              "2020-03-29               NaN  \n",
              "2020-03-30               NaN  \n",
              "2020-03-31               NaN  \n",
              "2020-04-02               NaN  \n",
              "2020-04-03               NaN  \n",
              "2020-04-04               NaN  \n",
              "2020-04-05               NaN  \n",
              "2020-04-06               NaN  \n",
              "2020-04-07               NaN  \n",
              "2020-04-08               NaN  \n",
              "2020-04-09               NaN  \n",
              "2020-04-10               NaN  \n",
              "2020-04-11               NaN  \n",
              "2020-04-12               NaN  \n",
              "2020-04-13               NaN  \n",
              "2020-04-14               NaN  \n",
              "2020-04-15               NaN  \n",
              "2020-04-16               NaN  \n",
              "2020-04-17               NaN  \n",
              "2020-04-18               NaN  \n",
              "2020-04-19               NaN  \n",
              "2020-04-20               NaN  \n",
              "2020-04-21               NaN  \n",
              "2020-04-22               NaN  \n",
              "2020-04-23               NaN  \n",
              "2020-04-24               NaN  \n",
              "2020-04-25               NaN  \n",
              "2020-04-26               NaN  \n",
              "2020-04-27               NaN  \n",
              "2020-04-28               NaN  \n",
              "2020-04-29               NaN  \n",
              "2020-04-30               NaN  "
            ],
            "text/html": [
              "\n",
              "  <div id=\"df-6427d111-0265-4f12-88d9-8075074713b0\">\n",
              "    <div class=\"colab-df-container\">\n",
              "      <div>\n",
              "<style scoped>\n",
              "    .dataframe tbody tr th:only-of-type {\n",
              "        vertical-align: middle;\n",
              "    }\n",
              "\n",
              "    .dataframe tbody tr th {\n",
              "        vertical-align: top;\n",
              "    }\n",
              "\n",
              "    .dataframe thead th {\n",
              "        text-align: right;\n",
              "    }\n",
              "</style>\n",
              "<table border=\"1\" class=\"dataframe\">\n",
              "  <thead>\n",
              "    <tr style=\"text-align: right;\">\n",
              "      <th></th>\n",
              "      <th>Day_Number</th>\n",
              "      <th>Fatalities</th>\n",
              "      <th>Day_Trial</th>\n",
              "      <th>Day_Number_Trial</th>\n",
              "      <th>Fatalities_Trial</th>\n",
              "    </tr>\n",
              "    <tr>\n",
              "      <th>Date</th>\n",
              "      <th></th>\n",
              "      <th></th>\n",
              "      <th></th>\n",
              "      <th></th>\n",
              "      <th></th>\n",
              "    </tr>\n",
              "  </thead>\n",
              "  <tbody>\n",
              "    <tr>\n",
              "      <th>2020-03-02</th>\n",
              "      <td>1</td>\n",
              "      <td>6</td>\n",
              "      <td>2020-03-18</td>\n",
              "      <td>17.0</td>\n",
              "      <td>171.0</td>\n",
              "    </tr>\n",
              "    <tr>\n",
              "      <th>2020-03-03</th>\n",
              "      <td>2</td>\n",
              "      <td>9</td>\n",
              "      <td>2020-03-24</td>\n",
              "      <td>23.0</td>\n",
              "      <td>957.0</td>\n",
              "    </tr>\n",
              "    <tr>\n",
              "      <th>2020-03-04</th>\n",
              "      <td>3</td>\n",
              "      <td>11</td>\n",
              "      <td>2020-03-28</td>\n",
              "      <td>27.0</td>\n",
              "      <td>2754.0</td>\n",
              "    </tr>\n",
              "    <tr>\n",
              "      <th>2020-03-05</th>\n",
              "      <td>4</td>\n",
              "      <td>12</td>\n",
              "      <td>2020-04-01</td>\n",
              "      <td>31.0</td>\n",
              "      <td>6394.0</td>\n",
              "    </tr>\n",
              "    <tr>\n",
              "      <th>2020-03-06</th>\n",
              "      <td>5</td>\n",
              "      <td>14</td>\n",
              "      <td>2020-04-05</td>\n",
              "      <td>35.0</td>\n",
              "      <td>11793.0</td>\n",
              "    </tr>\n",
              "    <tr>\n",
              "      <th>2020-03-07</th>\n",
              "      <td>6</td>\n",
              "      <td>17</td>\n",
              "      <td>2020-04-11</td>\n",
              "      <td>41.0</td>\n",
              "      <td>23843.0</td>\n",
              "    </tr>\n",
              "    <tr>\n",
              "      <th>2020-03-08</th>\n",
              "      <td>7</td>\n",
              "      <td>21</td>\n",
              "      <td>2020-04-16</td>\n",
              "      <td>46.0</td>\n",
              "      <td>34619.0</td>\n",
              "    </tr>\n",
              "    <tr>\n",
              "      <th>2020-03-09</th>\n",
              "      <td>8</td>\n",
              "      <td>22</td>\n",
              "      <td>2020-04-22</td>\n",
              "      <td>52.0</td>\n",
              "      <td>47894.0</td>\n",
              "    </tr>\n",
              "    <tr>\n",
              "      <th>2020-03-10</th>\n",
              "      <td>9</td>\n",
              "      <td>30</td>\n",
              "      <td>2020-04-28</td>\n",
              "      <td>58.0</td>\n",
              "      <td>59266.0</td>\n",
              "    </tr>\n",
              "    <tr>\n",
              "      <th>2020-03-11</th>\n",
              "      <td>10</td>\n",
              "      <td>36</td>\n",
              "      <td>NaN</td>\n",
              "      <td>NaN</td>\n",
              "      <td>NaN</td>\n",
              "    </tr>\n",
              "    <tr>\n",
              "      <th>2020-03-12</th>\n",
              "      <td>11</td>\n",
              "      <td>40</td>\n",
              "      <td>NaN</td>\n",
              "      <td>NaN</td>\n",
              "      <td>NaN</td>\n",
              "    </tr>\n",
              "    <tr>\n",
              "      <th>2020-03-13</th>\n",
              "      <td>12</td>\n",
              "      <td>47</td>\n",
              "      <td>NaN</td>\n",
              "      <td>NaN</td>\n",
              "      <td>NaN</td>\n",
              "    </tr>\n",
              "    <tr>\n",
              "      <th>2020-03-14</th>\n",
              "      <td>13</td>\n",
              "      <td>54</td>\n",
              "      <td>NaN</td>\n",
              "      <td>NaN</td>\n",
              "      <td>NaN</td>\n",
              "    </tr>\n",
              "    <tr>\n",
              "      <th>2020-03-15</th>\n",
              "      <td>14</td>\n",
              "      <td>73</td>\n",
              "      <td>NaN</td>\n",
              "      <td>NaN</td>\n",
              "      <td>NaN</td>\n",
              "    </tr>\n",
              "    <tr>\n",
              "      <th>2020-03-16</th>\n",
              "      <td>15</td>\n",
              "      <td>95</td>\n",
              "      <td>NaN</td>\n",
              "      <td>NaN</td>\n",
              "      <td>NaN</td>\n",
              "    </tr>\n",
              "    <tr>\n",
              "      <th>2020-03-17</th>\n",
              "      <td>16</td>\n",
              "      <td>121</td>\n",
              "      <td>NaN</td>\n",
              "      <td>NaN</td>\n",
              "      <td>NaN</td>\n",
              "    </tr>\n",
              "    <tr>\n",
              "      <th>2020-03-19</th>\n",
              "      <td>18</td>\n",
              "      <td>239</td>\n",
              "      <td>NaN</td>\n",
              "      <td>NaN</td>\n",
              "      <td>NaN</td>\n",
              "    </tr>\n",
              "    <tr>\n",
              "      <th>2020-03-20</th>\n",
              "      <td>19</td>\n",
              "      <td>309</td>\n",
              "      <td>NaN</td>\n",
              "      <td>NaN</td>\n",
              "      <td>NaN</td>\n",
              "    </tr>\n",
              "    <tr>\n",
              "      <th>2020-03-21</th>\n",
              "      <td>20</td>\n",
              "      <td>374</td>\n",
              "      <td>NaN</td>\n",
              "      <td>NaN</td>\n",
              "      <td>NaN</td>\n",
              "    </tr>\n",
              "    <tr>\n",
              "      <th>2020-03-22</th>\n",
              "      <td>21</td>\n",
              "      <td>509</td>\n",
              "      <td>NaN</td>\n",
              "      <td>NaN</td>\n",
              "      <td>NaN</td>\n",
              "    </tr>\n",
              "    <tr>\n",
              "      <th>2020-03-23</th>\n",
              "      <td>22</td>\n",
              "      <td>689</td>\n",
              "      <td>NaN</td>\n",
              "      <td>NaN</td>\n",
              "      <td>NaN</td>\n",
              "    </tr>\n",
              "    <tr>\n",
              "      <th>2020-03-25</th>\n",
              "      <td>24</td>\n",
              "      <td>1260</td>\n",
              "      <td>NaN</td>\n",
              "      <td>NaN</td>\n",
              "      <td>NaN</td>\n",
              "    </tr>\n",
              "    <tr>\n",
              "      <th>2020-03-26</th>\n",
              "      <td>25</td>\n",
              "      <td>1614</td>\n",
              "      <td>NaN</td>\n",
              "      <td>NaN</td>\n",
              "      <td>NaN</td>\n",
              "    </tr>\n",
              "    <tr>\n",
              "      <th>2020-03-27</th>\n",
              "      <td>26</td>\n",
              "      <td>2110</td>\n",
              "      <td>NaN</td>\n",
              "      <td>NaN</td>\n",
              "      <td>NaN</td>\n",
              "    </tr>\n",
              "    <tr>\n",
              "      <th>2020-03-29</th>\n",
              "      <td>28</td>\n",
              "      <td>3251</td>\n",
              "      <td>NaN</td>\n",
              "      <td>NaN</td>\n",
              "      <td>NaN</td>\n",
              "    </tr>\n",
              "    <tr>\n",
              "      <th>2020-03-30</th>\n",
              "      <td>29</td>\n",
              "      <td>3948</td>\n",
              "      <td>NaN</td>\n",
              "      <td>NaN</td>\n",
              "      <td>NaN</td>\n",
              "    </tr>\n",
              "    <tr>\n",
              "      <th>2020-03-31</th>\n",
              "      <td>30</td>\n",
              "      <td>5027</td>\n",
              "      <td>NaN</td>\n",
              "      <td>NaN</td>\n",
              "      <td>NaN</td>\n",
              "    </tr>\n",
              "    <tr>\n",
              "      <th>2020-04-02</th>\n",
              "      <td>32</td>\n",
              "      <td>7438</td>\n",
              "      <td>NaN</td>\n",
              "      <td>NaN</td>\n",
              "      <td>NaN</td>\n",
              "    </tr>\n",
              "    <tr>\n",
              "      <th>2020-04-03</th>\n",
              "      <td>33</td>\n",
              "      <td>8694</td>\n",
              "      <td>NaN</td>\n",
              "      <td>NaN</td>\n",
              "      <td>NaN</td>\n",
              "    </tr>\n",
              "    <tr>\n",
              "      <th>2020-04-04</th>\n",
              "      <td>34</td>\n",
              "      <td>10231</td>\n",
              "      <td>NaN</td>\n",
              "      <td>NaN</td>\n",
              "      <td>NaN</td>\n",
              "    </tr>\n",
              "    <tr>\n",
              "      <th>2020-04-05</th>\n",
              "      <td>35</td>\n",
              "      <td>11793</td>\n",
              "      <td>NaN</td>\n",
              "      <td>NaN</td>\n",
              "      <td>NaN</td>\n",
              "    </tr>\n",
              "    <tr>\n",
              "      <th>2020-04-06</th>\n",
              "      <td>36</td>\n",
              "      <td>13128</td>\n",
              "      <td>NaN</td>\n",
              "      <td>NaN</td>\n",
              "      <td>NaN</td>\n",
              "    </tr>\n",
              "    <tr>\n",
              "      <th>2020-04-07</th>\n",
              "      <td>37</td>\n",
              "      <td>15347</td>\n",
              "      <td>NaN</td>\n",
              "      <td>NaN</td>\n",
              "      <td>NaN</td>\n",
              "    </tr>\n",
              "    <tr>\n",
              "      <th>2020-04-08</th>\n",
              "      <td>38</td>\n",
              "      <td>17503</td>\n",
              "      <td>NaN</td>\n",
              "      <td>NaN</td>\n",
              "      <td>NaN</td>\n",
              "    </tr>\n",
              "    <tr>\n",
              "      <th>2020-04-09</th>\n",
              "      <td>39</td>\n",
              "      <td>19604</td>\n",
              "      <td>NaN</td>\n",
              "      <td>NaN</td>\n",
              "      <td>NaN</td>\n",
              "    </tr>\n",
              "    <tr>\n",
              "      <th>2020-04-10</th>\n",
              "      <td>40</td>\n",
              "      <td>21830</td>\n",
              "      <td>NaN</td>\n",
              "      <td>NaN</td>\n",
              "      <td>NaN</td>\n",
              "    </tr>\n",
              "    <tr>\n",
              "      <th>2020-04-11</th>\n",
              "      <td>41</td>\n",
              "      <td>23843</td>\n",
              "      <td>NaN</td>\n",
              "      <td>NaN</td>\n",
              "      <td>NaN</td>\n",
              "    </tr>\n",
              "    <tr>\n",
              "      <th>2020-04-12</th>\n",
              "      <td>42</td>\n",
              "      <td>25558</td>\n",
              "      <td>NaN</td>\n",
              "      <td>NaN</td>\n",
              "      <td>NaN</td>\n",
              "    </tr>\n",
              "    <tr>\n",
              "      <th>2020-04-13</th>\n",
              "      <td>43</td>\n",
              "      <td>27272</td>\n",
              "      <td>NaN</td>\n",
              "      <td>NaN</td>\n",
              "      <td>NaN</td>\n",
              "    </tr>\n",
              "    <tr>\n",
              "      <th>2020-04-14</th>\n",
              "      <td>44</td>\n",
              "      <td>29825</td>\n",
              "      <td>NaN</td>\n",
              "      <td>NaN</td>\n",
              "      <td>NaN</td>\n",
              "    </tr>\n",
              "    <tr>\n",
              "      <th>2020-04-15</th>\n",
              "      <td>45</td>\n",
              "      <td>32443</td>\n",
              "      <td>NaN</td>\n",
              "      <td>NaN</td>\n",
              "      <td>NaN</td>\n",
              "    </tr>\n",
              "    <tr>\n",
              "      <th>2020-04-16</th>\n",
              "      <td>46</td>\n",
              "      <td>34619</td>\n",
              "      <td>NaN</td>\n",
              "      <td>NaN</td>\n",
              "      <td>NaN</td>\n",
              "    </tr>\n",
              "    <tr>\n",
              "      <th>2020-04-17</th>\n",
              "      <td>47</td>\n",
              "      <td>37147</td>\n",
              "      <td>NaN</td>\n",
              "      <td>NaN</td>\n",
              "      <td>NaN</td>\n",
              "    </tr>\n",
              "    <tr>\n",
              "      <th>2020-04-18</th>\n",
              "      <td>48</td>\n",
              "      <td>39014</td>\n",
              "      <td>NaN</td>\n",
              "      <td>NaN</td>\n",
              "      <td>NaN</td>\n",
              "    </tr>\n",
              "    <tr>\n",
              "      <th>2020-04-19</th>\n",
              "      <td>49</td>\n",
              "      <td>40575</td>\n",
              "      <td>NaN</td>\n",
              "      <td>NaN</td>\n",
              "      <td>NaN</td>\n",
              "    </tr>\n",
              "    <tr>\n",
              "      <th>2020-04-20</th>\n",
              "      <td>50</td>\n",
              "      <td>42853</td>\n",
              "      <td>NaN</td>\n",
              "      <td>NaN</td>\n",
              "      <td>NaN</td>\n",
              "    </tr>\n",
              "    <tr>\n",
              "      <th>2020-04-21</th>\n",
              "      <td>51</td>\n",
              "      <td>45536</td>\n",
              "      <td>NaN</td>\n",
              "      <td>NaN</td>\n",
              "      <td>NaN</td>\n",
              "    </tr>\n",
              "    <tr>\n",
              "      <th>2020-04-22</th>\n",
              "      <td>52</td>\n",
              "      <td>47894</td>\n",
              "      <td>NaN</td>\n",
              "      <td>NaN</td>\n",
              "      <td>NaN</td>\n",
              "    </tr>\n",
              "    <tr>\n",
              "      <th>2020-04-23</th>\n",
              "      <td>53</td>\n",
              "      <td>50236</td>\n",
              "      <td>NaN</td>\n",
              "      <td>NaN</td>\n",
              "      <td>NaN</td>\n",
              "    </tr>\n",
              "    <tr>\n",
              "      <th>2020-04-24</th>\n",
              "      <td>54</td>\n",
              "      <td>52191</td>\n",
              "      <td>NaN</td>\n",
              "      <td>NaN</td>\n",
              "      <td>NaN</td>\n",
              "    </tr>\n",
              "    <tr>\n",
              "      <th>2020-04-25</th>\n",
              "      <td>55</td>\n",
              "      <td>54256</td>\n",
              "      <td>NaN</td>\n",
              "      <td>NaN</td>\n",
              "      <td>NaN</td>\n",
              "    </tr>\n",
              "    <tr>\n",
              "      <th>2020-04-26</th>\n",
              "      <td>56</td>\n",
              "      <td>55412</td>\n",
              "      <td>NaN</td>\n",
              "      <td>NaN</td>\n",
              "      <td>NaN</td>\n",
              "    </tr>\n",
              "    <tr>\n",
              "      <th>2020-04-27</th>\n",
              "      <td>57</td>\n",
              "      <td>56796</td>\n",
              "      <td>NaN</td>\n",
              "      <td>NaN</td>\n",
              "      <td>NaN</td>\n",
              "    </tr>\n",
              "    <tr>\n",
              "      <th>2020-04-28</th>\n",
              "      <td>58</td>\n",
              "      <td>59266</td>\n",
              "      <td>NaN</td>\n",
              "      <td>NaN</td>\n",
              "      <td>NaN</td>\n",
              "    </tr>\n",
              "    <tr>\n",
              "      <th>2020-04-29</th>\n",
              "      <td>59</td>\n",
              "      <td>61655</td>\n",
              "      <td>NaN</td>\n",
              "      <td>NaN</td>\n",
              "      <td>NaN</td>\n",
              "    </tr>\n",
              "    <tr>\n",
              "      <th>2020-04-30</th>\n",
              "      <td>60</td>\n",
              "      <td>63856</td>\n",
              "      <td>NaN</td>\n",
              "      <td>NaN</td>\n",
              "      <td>NaN</td>\n",
              "    </tr>\n",
              "  </tbody>\n",
              "</table>\n",
              "</div>\n",
              "      <button class=\"colab-df-convert\" onclick=\"convertToInteractive('df-6427d111-0265-4f12-88d9-8075074713b0')\"\n",
              "              title=\"Convert this dataframe to an interactive table.\"\n",
              "              style=\"display:none;\">\n",
              "        \n",
              "  <svg xmlns=\"http://www.w3.org/2000/svg\" height=\"24px\"viewBox=\"0 0 24 24\"\n",
              "       width=\"24px\">\n",
              "    <path d=\"M0 0h24v24H0V0z\" fill=\"none\"/>\n",
              "    <path d=\"M18.56 5.44l.94 2.06.94-2.06 2.06-.94-2.06-.94-.94-2.06-.94 2.06-2.06.94zm-11 1L8.5 8.5l.94-2.06 2.06-.94-2.06-.94L8.5 2.5l-.94 2.06-2.06.94zm10 10l.94 2.06.94-2.06 2.06-.94-2.06-.94-.94-2.06-.94 2.06-2.06.94z\"/><path d=\"M17.41 7.96l-1.37-1.37c-.4-.4-.92-.59-1.43-.59-.52 0-1.04.2-1.43.59L10.3 9.45l-7.72 7.72c-.78.78-.78 2.05 0 2.83L4 21.41c.39.39.9.59 1.41.59.51 0 1.02-.2 1.41-.59l7.78-7.78 2.81-2.81c.8-.78.8-2.07 0-2.86zM5.41 20L4 18.59l7.72-7.72 1.47 1.35L5.41 20z\"/>\n",
              "  </svg>\n",
              "      </button>\n",
              "      \n",
              "  <style>\n",
              "    .colab-df-container {\n",
              "      display:flex;\n",
              "      flex-wrap:wrap;\n",
              "      gap: 12px;\n",
              "    }\n",
              "\n",
              "    .colab-df-convert {\n",
              "      background-color: #E8F0FE;\n",
              "      border: none;\n",
              "      border-radius: 50%;\n",
              "      cursor: pointer;\n",
              "      display: none;\n",
              "      fill: #1967D2;\n",
              "      height: 32px;\n",
              "      padding: 0 0 0 0;\n",
              "      width: 32px;\n",
              "    }\n",
              "\n",
              "    .colab-df-convert:hover {\n",
              "      background-color: #E2EBFA;\n",
              "      box-shadow: 0px 1px 2px rgba(60, 64, 67, 0.3), 0px 1px 3px 1px rgba(60, 64, 67, 0.15);\n",
              "      fill: #174EA6;\n",
              "    }\n",
              "\n",
              "    [theme=dark] .colab-df-convert {\n",
              "      background-color: #3B4455;\n",
              "      fill: #D2E3FC;\n",
              "    }\n",
              "\n",
              "    [theme=dark] .colab-df-convert:hover {\n",
              "      background-color: #434B5C;\n",
              "      box-shadow: 0px 1px 3px 1px rgba(0, 0, 0, 0.15);\n",
              "      filter: drop-shadow(0px 1px 2px rgba(0, 0, 0, 0.3));\n",
              "      fill: #FFFFFF;\n",
              "    }\n",
              "  </style>\n",
              "\n",
              "      <script>\n",
              "        const buttonEl =\n",
              "          document.querySelector('#df-6427d111-0265-4f12-88d9-8075074713b0 button.colab-df-convert');\n",
              "        buttonEl.style.display =\n",
              "          google.colab.kernel.accessAllowed ? 'block' : 'none';\n",
              "\n",
              "        async function convertToInteractive(key) {\n",
              "          const element = document.querySelector('#df-6427d111-0265-4f12-88d9-8075074713b0');\n",
              "          const dataTable =\n",
              "            await google.colab.kernel.invokeFunction('convertToInteractive',\n",
              "                                                     [key], {});\n",
              "          if (!dataTable) return;\n",
              "\n",
              "          const docLinkHtml = 'Like what you see? Visit the ' +\n",
              "            '<a target=\"_blank\" href=https://colab.research.google.com/notebooks/data_table.ipynb>data table notebook</a>'\n",
              "            + ' to learn more about interactive tables.';\n",
              "          element.innerHTML = '';\n",
              "          dataTable['output_type'] = 'display_data';\n",
              "          await google.colab.output.renderOutput(dataTable, element);\n",
              "          const docLink = document.createElement('div');\n",
              "          docLink.innerHTML = docLinkHtml;\n",
              "          element.appendChild(docLink);\n",
              "        }\n",
              "      </script>\n",
              "    </div>\n",
              "  </div>\n",
              "  "
            ]
          },
          "metadata": {},
          "execution_count": 30
        }
      ]
    },
    {
      "cell_type": "code",
      "source": [
        "x_fatalities = ds_fatalities['Day_Number']\n",
        "y_death = ds_fatalities['Fatalities']\n",
        "x_test_deaths = ds_fatalities['Day_Number_Trial'][:9]\n",
        "y_test_deaths = ds_fatalities['Fatalities_Trial'][:9]\n",
        "x_prediction2 =[[61],[62],[63],[64],[65],[66],[67],[68],[69],[70]]"
      ],
      "metadata": {
        "id": "2nA5pP213grB"
      },
      "execution_count": 31,
      "outputs": []
    },
    {
      "cell_type": "markdown",
      "source": [
        "### Using a Linear Regression Model: Covid-Related Fatalities"
      ],
      "metadata": {
        "id": "08WpdldZ6dOp"
      }
    },
    {
      "cell_type": "code",
      "source": [
        "from sklearn.linear_model import LinearRegression\n",
        "linear_regression=LinearRegression()\n",
        "\n",
        "y_log_D = np.log10(y_death)\n",
        "\n",
        "scores = []\n",
        "\n",
        "Linear_Regression = LinearRegression()\n",
        "\n",
        "cv = KFold(n_splits=10, random_state=1, shuffle=True)\n",
        "for train_index, test_index in cv.split(x_fatalities):\n",
        "    X_train_D, X_test_D, y_log_train_D, y_log_test_D= x_fatalities[train_index], x_fatalities[test_index], y_log_D[train_index], y_log_D[test_index]\n",
        "    \n",
        "    Linear_Regression.fit(X_train_D.values.reshape(-1,1), y_log_train_D)\n",
        "    scores.append(Linear_Regression.score(X_test_D.values.reshape(-1,1), y_log_test_D))\n",
        "    \n",
        "print(\"Average Linear Regression:\",sum(scores)/10)"
      ],
      "metadata": {
        "colab": {
          "base_uri": "https://localhost:8080/"
        },
        "id": "rg0kyDjG6uBU",
        "outputId": "c7aeb77f-9f5e-4434-9908-f8d42ff02fbf"
      },
      "execution_count": 32,
      "outputs": [
        {
          "output_type": "stream",
          "name": "stdout",
          "text": [
            "Average Linear Regression: 0.7764526194667118\n"
          ]
        }
      ]
    },
    {
      "cell_type": "markdown",
      "source": [
        "Above is the average linear regression value."
      ],
      "metadata": {
        "id": "PE3s7OMg7Q_u"
      }
    },
    {
      "cell_type": "code",
      "source": [
        "Linear_Regression.fit(x_fatalities.values.reshape(-1,1), y_log_D)\n",
        "y_test_deaths_log=np.log10(y_test_deaths)\n",
        "evaluation_4 =Linear_Regression.predict(x_test_deaths.values.reshape(-1,1))\n",
        "score=Linear_Regression.score(x_test_deaths.values.reshape(-1,1), y_test_deaths_log)   \n",
        "print(\"Final Linear Regression:\",score)"
      ],
      "metadata": {
        "colab": {
          "base_uri": "https://localhost:8080/"
        },
        "id": "jhMIhYZc7XEa",
        "outputId": "1e9961e8-d0b9-4ec4-bcc4-b9f3ecaa69ab"
      },
      "execution_count": 33,
      "outputs": [
        {
          "output_type": "stream",
          "name": "stdout",
          "text": [
            "Final Linear Regression: 0.8092388877578485\n"
          ]
        }
      ]
    },
    {
      "cell_type": "markdown",
      "source": [
        "Here we have the final linear regression value. "
      ],
      "metadata": {
        "id": "uqpoIv5d7gkC"
      }
    },
    {
      "cell_type": "markdown",
      "source": [
        "### 10 Day Prediction: Covid-Related Fatalities"
      ],
      "metadata": {
        "id": "pBRYe7-I7uo2"
      }
    },
    {
      "cell_type": "code",
      "source": [
        "print('Preddictions for the Next 10 Days:')\n",
        "for predict in x_prediction2:\n",
        "  print('day',predict,'=',int(6.8**Linear_Regression.predict([predict])))"
      ],
      "metadata": {
        "colab": {
          "base_uri": "https://localhost:8080/"
        },
        "id": "RFQd9YXB8GgD",
        "outputId": "fce58638-b0cc-4d41-92a3-46444303bfde"
      },
      "execution_count": 52,
      "outputs": [
        {
          "output_type": "stream",
          "name": "stdout",
          "text": [
            "Preddictions for the Next 10 Days:\n",
            "day [61] = 41335\n",
            "day [62] = 47637\n",
            "day [63] = 54900\n",
            "day [64] = 63271\n",
            "day [65] = 72918\n",
            "day [66] = 84035\n",
            "day [67] = 96848\n",
            "day [68] = 111614\n",
            "day [69] = 128632\n",
            "day [70] = 148244\n"
          ]
        }
      ]
    },
    {
      "cell_type": "markdown",
      "source": [
        "Here we have predicted the total number of recorded covid-related fatalities over the next 10 days after April 30, 2020. Same as in predicting the covid cases, we use the linear regression model to predict these values. "
      ],
      "metadata": {
        "id": "q25r1FfB8Uml"
      }
    },
    {
      "cell_type": "code",
      "source": [
        "predicted4 =(Linear_Regression.predict(x_fatalities.values.reshape(-1,1)))\n",
        "plt.plot(x_fatalities, y_log_D, 'o-',label='Total Recorded Covid-Related Fatalities')\n",
        "plt.plot(x_fatalities, predicted4,c='#ff0000',label='Linear Regression')\n",
        "plt.legend()\n",
        "plt.xlabel('Day Number')\n",
        "plt.ylabel('Fatalities')\n",
        "plt.show()"
      ],
      "metadata": {
        "colab": {
          "base_uri": "https://localhost:8080/",
          "height": 279
        },
        "id": "FZ1ZO4q886gF",
        "outputId": "f50bbbcb-c775-4d08-9a02-13dc2b18f4de"
      },
      "execution_count": 35,
      "outputs": [
        {
          "output_type": "display_data",
          "data": {
            "text/plain": [
              "<Figure size 432x288 with 1 Axes>"
            ],
            "image/png": "[encoded data removed]"
          },
          "metadata": {
            "needs_background": "light"
          }
        }
      ]
    },
    {
      "cell_type": "markdown",
      "source": [
        "Here we have a graph displaying the total recorded covid-related fatalities (blue dotted line) and the linear regression (red dotted line). Again, I converted this to a logarithmic graph to avoid having high number values, so it is easier to follow."
      ],
      "metadata": {
        "id": "x5CY7hBgAC91"
      }
    },
    {
      "cell_type": "markdown",
      "source": [
        "## Explanation"
      ],
      "metadata": {
        "id": "p5Lzucb6A_UI"
      }
    },
    {
      "cell_type": "markdown",
      "source": [
        "### Linear Regression"
      ],
      "metadata": {
        "id": "K-NvLzahBFOL"
      }
    },
    {
      "cell_type": "markdown",
      "source": [
        "Linear regression is used here because it is the easiest way of finding an estimate over a period of time in these variables above. The equation for linear regression in our situation is y = bx + a. In this equation 'b' represents the slope of the line, computed by find the (sum of all y-coordinates)/(the sum of all the x-coordinates). As most people know, the a represents the y-intercept. This equation can be used in many different areas, but depending on what you are predicting can chnage this equation in different ways. For example, if we were to consider also taking another variable into account, lets say population, we would have a limit on the amount of cases posssible each day. Thus, the equation will be different.  "
      ],
      "metadata": {
        "id": "o9Kva6OEBRA9"
      }
    },
    {
      "cell_type": "markdown",
      "source": [
        "## CDC Reported Covid Cases and Covid-Related Fatalities"
      ],
      "metadata": {
        "id": "spGjNGryGYn2"
      }
    },
    {
      "cell_type": "markdown",
      "source": [
        "Here I will be reviewing the CDC Covid-19 records, looking at the total number of recorded cases and fatalities reported by date once a week. By comparing the total predicted covid cases to the total reported covid cases, we will be able to see the accuracy of pridecting the total covid cases using the linear regression model. By, also comparing the total predicted covid-related fatalities to the total reported covid-related fatalities, we will also be able to see the accuracy in terms of predicting the total covid-related fatalities. I would have liked to get the total recorded cases by day to be able to really compare, but I could not find data on that except for certain websites that may not be credible. So I will just use the information provided by the CDC."
      ],
      "metadata": {
        "id": "ryOw3cDPGrrt"
      }
    },
    {
      "cell_type": "markdown",
      "source": [
        "### Covid Cases:"
      ],
      "metadata": {
        "id": "WtbyJZUaH3Fr"
      }
    },
    {
      "cell_type": "code",
      "source": [
        "path3='https://raw.githubusercontent.com/rdbrow10/Final-Project/main/CDCReportedCovidCases'\n",
        "ds_CDCCovidCases = pd.read_csv(path3, index_col=0)\n",
        "ds_CDCCovidCases.head(4)"
      ],
      "metadata": {
        "colab": {
          "base_uri": "https://localhost:8080/",
          "height": 175
        },
        "id": "1pd9o_iKOAb5",
        "outputId": "c2bdd80b-a49d-4409-ac27-fc3ad60e2318"
      },
      "execution_count": 24,
      "outputs": [
        {
          "output_type": "execute_result",
          "data": {
            "text/plain": [
              "             Total_Cases\n",
              "Date                    \n",
              "Apr-22-2020       854344\n",
              "Apr-29-2020      1051270\n",
              "May-6-2020       1239636"
            ],
            "text/html": [
              "\n",
              "  <div id=\"df-37d6a98a-dc3c-4e5c-aac0-66871c4dfab7\">\n",
              "    <div class=\"colab-df-container\">\n",
              "      <div>\n",
              "<style scoped>\n",
              "    .dataframe tbody tr th:only-of-type {\n",
              "        vertical-align: middle;\n",
              "    }\n",
              "\n",
              "    .dataframe tbody tr th {\n",
              "        vertical-align: top;\n",
              "    }\n",
              "\n",
              "    .dataframe thead th {\n",
              "        text-align: right;\n",
              "    }\n",
              "</style>\n",
              "<table border=\"1\" class=\"dataframe\">\n",
              "  <thead>\n",
              "    <tr style=\"text-align: right;\">\n",
              "      <th></th>\n",
              "      <th>Total_Cases</th>\n",
              "    </tr>\n",
              "    <tr>\n",
              "      <th>Date</th>\n",
              "      <th></th>\n",
              "    </tr>\n",
              "  </thead>\n",
              "  <tbody>\n",
              "    <tr>\n",
              "      <th>Apr-22-2020</th>\n",
              "      <td>854344</td>\n",
              "    </tr>\n",
              "    <tr>\n",
              "      <th>Apr-29-2020</th>\n",
              "      <td>1051270</td>\n",
              "    </tr>\n",
              "    <tr>\n",
              "      <th>May-6-2020</th>\n",
              "      <td>1239636</td>\n",
              "    </tr>\n",
              "  </tbody>\n",
              "</table>\n",
              "</div>\n",
              "      <button class=\"colab-df-convert\" onclick=\"convertToInteractive('df-37d6a98a-dc3c-4e5c-aac0-66871c4dfab7')\"\n",
              "              title=\"Convert this dataframe to an interactive table.\"\n",
              "              style=\"display:none;\">\n",
              "        \n",
              "  <svg xmlns=\"http://www.w3.org/2000/svg\" height=\"24px\"viewBox=\"0 0 24 24\"\n",
              "       width=\"24px\">\n",
              "    <path d=\"M0 0h24v24H0V0z\" fill=\"none\"/>\n",
              "    <path d=\"M18.56 5.44l.94 2.06.94-2.06 2.06-.94-2.06-.94-.94-2.06-.94 2.06-2.06.94zm-11 1L8.5 8.5l.94-2.06 2.06-.94-2.06-.94L8.5 2.5l-.94 2.06-2.06.94zm10 10l.94 2.06.94-2.06 2.06-.94-2.06-.94-.94-2.06-.94 2.06-2.06.94z\"/><path d=\"M17.41 7.96l-1.37-1.37c-.4-.4-.92-.59-1.43-.59-.52 0-1.04.2-1.43.59L10.3 9.45l-7.72 7.72c-.78.78-.78 2.05 0 2.83L4 21.41c.39.39.9.59 1.41.59.51 0 1.02-.2 1.41-.59l7.78-7.78 2.81-2.81c.8-.78.8-2.07 0-2.86zM5.41 20L4 18.59l7.72-7.72 1.47 1.35L5.41 20z\"/>\n",
              "  </svg>\n",
              "      </button>\n",
              "      \n",
              "  <style>\n",
              "    .colab-df-container {\n",
              "      display:flex;\n",
              "      flex-wrap:wrap;\n",
              "      gap: 12px;\n",
              "    }\n",
              "\n",
              "    .colab-df-convert {\n",
              "      background-color: #E8F0FE;\n",
              "      border: none;\n",
              "      border-radius: 50%;\n",
              "      cursor: pointer;\n",
              "      display: none;\n",
              "      fill: #1967D2;\n",
              "      height: 32px;\n",
              "      padding: 0 0 0 0;\n",
              "      width: 32px;\n",
              "    }\n",
              "\n",
              "    .colab-df-convert:hover {\n",
              "      background-color: #E2EBFA;\n",
              "      box-shadow: 0px 1px 2px rgba(60, 64, 67, 0.3), 0px 1px 3px 1px rgba(60, 64, 67, 0.15);\n",
              "      fill: #174EA6;\n",
              "    }\n",
              "\n",
              "    [theme=dark] .colab-df-convert {\n",
              "      background-color: #3B4455;\n",
              "      fill: #D2E3FC;\n",
              "    }\n",
              "\n",
              "    [theme=dark] .colab-df-convert:hover {\n",
              "      background-color: #434B5C;\n",
              "      box-shadow: 0px 1px 3px 1px rgba(0, 0, 0, 0.15);\n",
              "      filter: drop-shadow(0px 1px 2px rgba(0, 0, 0, 0.3));\n",
              "      fill: #FFFFFF;\n",
              "    }\n",
              "  </style>\n",
              "\n",
              "      <script>\n",
              "        const buttonEl =\n",
              "          document.querySelector('#df-37d6a98a-dc3c-4e5c-aac0-66871c4dfab7 button.colab-df-convert');\n",
              "        buttonEl.style.display =\n",
              "          google.colab.kernel.accessAllowed ? 'block' : 'none';\n",
              "\n",
              "        async function convertToInteractive(key) {\n",
              "          const element = document.querySelector('#df-37d6a98a-dc3c-4e5c-aac0-66871c4dfab7');\n",
              "          const dataTable =\n",
              "            await google.colab.kernel.invokeFunction('convertToInteractive',\n",
              "                                                     [key], {});\n",
              "          if (!dataTable) return;\n",
              "\n",
              "          const docLinkHtml = 'Like what you see? Visit the ' +\n",
              "            '<a target=\"_blank\" href=https://colab.research.google.com/notebooks/data_table.ipynb>data table notebook</a>'\n",
              "            + ' to learn more about interactive tables.';\n",
              "          element.innerHTML = '';\n",
              "          dataTable['output_type'] = 'display_data';\n",
              "          await google.colab.output.renderOutput(dataTable, element);\n",
              "          const docLink = document.createElement('div');\n",
              "          docLink.innerHTML = docLinkHtml;\n",
              "          element.appendChild(docLink);\n",
              "        }\n",
              "      </script>\n",
              "    </div>\n",
              "  </div>\n",
              "  "
            ]
          },
          "metadata": {},
          "execution_count": 24
        }
      ]
    },
    {
      "cell_type": "markdown",
      "source": [
        "The above is a table of the total recorded cases in the US reported by the CDC. We can now compare the predicted total recorded cases to the reported total cases. So, by looking at the total predicted cases on May 6, 2020 or day 106 we get a total of 2,684,674 cases ever recorded. Although the CDC reported that on May 6, 2020 there had only been 1,239,636. This is quite suprising how high this value is. I originally thought a linear regression line would undervalue this due to behaviors, but I forgot to consider there is a limit to population size so there could only be a certain amount of cases occurring each day. Here we can see how linear regression can work well in some aspects but not so well in others. By looking closer, I can see that due to the increase in the trend I can see that the total recorded cases were increasing at a higher amount each week, which would explain why the linear regression model predicted such a high number. "
      ],
      "metadata": {
        "id": "fc_LleGGORi6"
      }
    },
    {
      "cell_type": "markdown",
      "source": [
        "### Covid-Related Fatalities:"
      ],
      "metadata": {
        "id": "kjHhDDQcIMjz"
      }
    },
    {
      "cell_type": "code",
      "source": [
        "path4='https://raw.githubusercontent.com/rdbrow10/Final-Project/main/CDCReportedCovidFatalities'\n",
        "ds_CDCCovidFatalities = pd.read_csv(path4, index_col=0)\n",
        "ds_CDCCovidFatalities.head(10)"
      ],
      "metadata": {
        "colab": {
          "base_uri": "https://localhost:8080/",
          "height": 175
        },
        "id": "tFlhEyj-VDLa",
        "outputId": "b368a57a-b1fc-45ed-c172-dd7af864aed5"
      },
      "execution_count": 36,
      "outputs": [
        {
          "output_type": "execute_result",
          "data": {
            "text/plain": [
              "             Total_Fatalities\n",
              "Date                         \n",
              "Apr-29-2020             64204\n",
              "May-6-2020              76939\n",
              "May-13-2020             87305"
            ],
            "text/html": [
              "\n",
              "  <div id=\"df-0103fb02-533c-4f38-b28a-abbe87fd1944\">\n",
              "    <div class=\"colab-df-container\">\n",
              "      <div>\n",
              "<style scoped>\n",
              "    .dataframe tbody tr th:only-of-type {\n",
              "        vertical-align: middle;\n",
              "    }\n",
              "\n",
              "    .dataframe tbody tr th {\n",
              "        vertical-align: top;\n",
              "    }\n",
              "\n",
              "    .dataframe thead th {\n",
              "        text-align: right;\n",
              "    }\n",
              "</style>\n",
              "<table border=\"1\" class=\"dataframe\">\n",
              "  <thead>\n",
              "    <tr style=\"text-align: right;\">\n",
              "      <th></th>\n",
              "      <th>Total_Fatalities</th>\n",
              "    </tr>\n",
              "    <tr>\n",
              "      <th>Date</th>\n",
              "      <th></th>\n",
              "    </tr>\n",
              "  </thead>\n",
              "  <tbody>\n",
              "    <tr>\n",
              "      <th>Apr-29-2020</th>\n",
              "      <td>64204</td>\n",
              "    </tr>\n",
              "    <tr>\n",
              "      <th>May-6-2020</th>\n",
              "      <td>76939</td>\n",
              "    </tr>\n",
              "    <tr>\n",
              "      <th>May-13-2020</th>\n",
              "      <td>87305</td>\n",
              "    </tr>\n",
              "  </tbody>\n",
              "</table>\n",
              "</div>\n",
              "      <button class=\"colab-df-convert\" onclick=\"convertToInteractive('df-0103fb02-533c-4f38-b28a-abbe87fd1944')\"\n",
              "              title=\"Convert this dataframe to an interactive table.\"\n",
              "              style=\"display:none;\">\n",
              "        \n",
              "  <svg xmlns=\"http://www.w3.org/2000/svg\" height=\"24px\"viewBox=\"0 0 24 24\"\n",
              "       width=\"24px\">\n",
              "    <path d=\"M0 0h24v24H0V0z\" fill=\"none\"/>\n",
              "    <path d=\"M18.56 5.44l.94 2.06.94-2.06 2.06-.94-2.06-.94-.94-2.06-.94 2.06-2.06.94zm-11 1L8.5 8.5l.94-2.06 2.06-.94-2.06-.94L8.5 2.5l-.94 2.06-2.06.94zm10 10l.94 2.06.94-2.06 2.06-.94-2.06-.94-.94-2.06-.94 2.06-2.06.94z\"/><path d=\"M17.41 7.96l-1.37-1.37c-.4-.4-.92-.59-1.43-.59-.52 0-1.04.2-1.43.59L10.3 9.45l-7.72 7.72c-.78.78-.78 2.05 0 2.83L4 21.41c.39.39.9.59 1.41.59.51 0 1.02-.2 1.41-.59l7.78-7.78 2.81-2.81c.8-.78.8-2.07 0-2.86zM5.41 20L4 18.59l7.72-7.72 1.47 1.35L5.41 20z\"/>\n",
              "  </svg>\n",
              "      </button>\n",
              "      \n",
              "  <style>\n",
              "    .colab-df-container {\n",
              "      display:flex;\n",
              "      flex-wrap:wrap;\n",
              "      gap: 12px;\n",
              "    }\n",
              "\n",
              "    .colab-df-convert {\n",
              "      background-color: #E8F0FE;\n",
              "      border: none;\n",
              "      border-radius: 50%;\n",
              "      cursor: pointer;\n",
              "      display: none;\n",
              "      fill: #1967D2;\n",
              "      height: 32px;\n",
              "      padding: 0 0 0 0;\n",
              "      width: 32px;\n",
              "    }\n",
              "\n",
              "    .colab-df-convert:hover {\n",
              "      background-color: #E2EBFA;\n",
              "      box-shadow: 0px 1px 2px rgba(60, 64, 67, 0.3), 0px 1px 3px 1px rgba(60, 64, 67, 0.15);\n",
              "      fill: #174EA6;\n",
              "    }\n",
              "\n",
              "    [theme=dark] .colab-df-convert {\n",
              "      background-color: #3B4455;\n",
              "      fill: #D2E3FC;\n",
              "    }\n",
              "\n",
              "    [theme=dark] .colab-df-convert:hover {\n",
              "      background-color: #434B5C;\n",
              "      box-shadow: 0px 1px 3px 1px rgba(0, 0, 0, 0.15);\n",
              "      filter: drop-shadow(0px 1px 2px rgba(0, 0, 0, 0.3));\n",
              "      fill: #FFFFFF;\n",
              "    }\n",
              "  </style>\n",
              "\n",
              "      <script>\n",
              "        const buttonEl =\n",
              "          document.querySelector('#df-0103fb02-533c-4f38-b28a-abbe87fd1944 button.colab-df-convert');\n",
              "        buttonEl.style.display =\n",
              "          google.colab.kernel.accessAllowed ? 'block' : 'none';\n",
              "\n",
              "        async function convertToInteractive(key) {\n",
              "          const element = document.querySelector('#df-0103fb02-533c-4f38-b28a-abbe87fd1944');\n",
              "          const dataTable =\n",
              "            await google.colab.kernel.invokeFunction('convertToInteractive',\n",
              "                                                     [key], {});\n",
              "          if (!dataTable) return;\n",
              "\n",
              "          const docLinkHtml = 'Like what you see? Visit the ' +\n",
              "            '<a target=\"_blank\" href=https://colab.research.google.com/notebooks/data_table.ipynb>data table notebook</a>'\n",
              "            + ' to learn more about interactive tables.';\n",
              "          element.innerHTML = '';\n",
              "          dataTable['output_type'] = 'display_data';\n",
              "          await google.colab.output.renderOutput(dataTable, element);\n",
              "          const docLink = document.createElement('div');\n",
              "          docLink.innerHTML = docLinkHtml;\n",
              "          element.appendChild(docLink);\n",
              "        }\n",
              "      </script>\n",
              "    </div>\n",
              "  </div>\n",
              "  "
            ]
          },
          "metadata": {},
          "execution_count": 36
        }
      ]
    },
    {
      "cell_type": "markdown",
      "source": [
        "The above is a table of total recorded covid-related fatalities in the US by each week. As before we can use the same method of determining the accuracy of linear regression now in terms of total recorded covid-related fatalities. On May 6, 2020 it was predicted that the total recorded covid-related fatalitlies would hit 84,035. But, the CDC reported that on May 6, 2022 the total recorded covid-related fatalities hit 76,939. This is also a bit high which I believe is due to the linear regression curve not being completey accurate. But we can still see that the value is close enough to make the connection. "
      ],
      "metadata": {
        "id": "i1xi32LNVVRz"
      }
    },
    {
      "cell_type": "markdown",
      "source": [
        "## My Hope for Future Machine Learning Applications"
      ],
      "metadata": {
        "id": "9aC8C6puECUG"
      }
    },
    {
      "cell_type": "markdown",
      "source": [
        "I reallly enjoyed doing this project, even though I have never been good with coding. I would like to try to attempt more applications with machine learning and apply it to my future career and passions. One way I would like to use machine learning and more specifically linear regression is predicting the amount of homes purchasing solar panels in the next decade. I am very passionate about renewable energy, so it would be nice to peak into the future and hopefully put my mind at ease! I think I might try to do this over winter break or sometime when I have a lot of free time. I think there are so many ways we can apply machine learning into programs, to make it easy for poeple to see future predictions in many different areas. "
      ],
      "metadata": {
        "id": "gm5GK8KQEQ05"
      }
    },
    {
      "cell_type": "markdown",
      "source": [
        "## Conclusion/Discussion"
      ],
      "metadata": {
        "id": "xm2Y_i5NYrnj"
      }
    },
    {
      "cell_type": "markdown",
      "source": [
        "I started off thinking that the predictions would undervalue the amount of cases and fatalities. After reviewing my predictions and the CDC reported cases and fatalities, I have realized that it overvalues the case and fatlities. I believe this is due to the dates I was looking at. During the time interval I chose, covid was very new and was spreading a lot quicker and there were less people that got covid, thus there were more people availble to be infected. The infection rate seemed to slow down as there is a limit to population which the linear regression model does not take into account. Although a linear regression model has some constraints it is a great way to predict certain outcomes. Linear regression models can also be applied in many different forms. We can use it to find, lets say, the future total number of cheese burgers eaten in the US. By going through the same process with the same available information we can determine how much the total number of cheeseburger eaten will increase in just a month, or a year, it really doesn't matter how far in the future we want to predict. But, do this with caution as predicting futher and futher in the future can make your results less and less accurate. In the end, a linear regression model uses the values provided to graph a line that represents a constant increase in covid cases without the consideration of external factors that cannot be easily computed (i.e. behaviors, safety, and etc.)."
      ],
      "metadata": {
        "id": "RXCNVi5ZYvl2"
      }
    },
    {
      "cell_type": "markdown",
      "source": [
        "## References:"
      ],
      "metadata": {
        "id": "o-Ue0Pmrdv24"
      }
    },
    {
      "cell_type": "markdown",
      "source": [
        "1. https://covid.cdc.gov/covid-data-tracker/#datatracker-home\n",
        "2. https://www.mayoclinic.org/coronavirus-covid-19/map\n",
        "3. MAT 494 - Chapter 1 Lecture Notes: Linear Algebra\n",
        "4. https://github.com/AlessandroMinervini/COVID-19-forecasting/blob/4bfa143d21ba2ceac16b5080ac642d7049498b61/linear_regression.py\n",
        "5. https://www.ncbi.nlm.nih.gov/pmc/articles/PMC8871757/#:~:text=The%20COVID%2D19%20cases%20as,of%20support%20vector%20regression%20model.\n"
      ],
      "metadata": {
        "id": "YLUE3oZpd0ov"
      }
    }
  ]
}